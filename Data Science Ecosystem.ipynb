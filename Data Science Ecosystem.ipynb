{
 "cells": [
  {
   "cell_type": "markdown",
   "id": "cafd70dc-2466-4eb1-8eec-5984a1dd1330",
   "metadata": {},
   "source": [
    "# Data Science Tools and Ecosystem"
   ]
  },
  {
   "cell_type": "markdown",
   "id": "d9260604-9ffa-4465-8fae-56b045d344f9",
   "metadata": {},
   "source": [
    "In this notebook, Data Science Tools and Ecosystem are summarized."
   ]
  },
  {
   "cell_type": "markdown",
   "id": "f1615f4e-0c7e-4cd1-a4b3-beb5a223704e",
   "metadata": {},
   "source": [
    "**Objectives:**\n",
    "- List of Popular Languages for Data Science\n",
    "- List of Commonly used Libraries in Data Science\n",
    "- Some Data Science Tools\n",
    "- Arithmetic Expressions in Python"
   ]
  },
  {
   "cell_type": "markdown",
   "id": "a7b2bc86-d908-45af-9296-faa09ffa004e",
   "metadata": {},
   "source": [
    "Some of the popular languages that Data Scientists use are:\n",
    "1. Python\n",
    "2. R\n",
    "3. SQL"
   ]
  },
  {
   "cell_type": "markdown",
   "id": "efa728bf-5cd8-44f2-b8cd-4ee5dae9bf83",
   "metadata": {},
   "source": [
    "Some of the commonly used libraries used by Data Scientists include:\n",
    "1. matplotlib\n",
    "2. Pandas\n",
    "3. Numpy\n",
    "4. ggplot2\n",
    "5. Scikit-learn\n",
    "6. Keras"
   ]
  },
  {
   "cell_type": "markdown",
   "id": "9f2736f8-1881-4a09-87bd-965ced17b5fe",
   "metadata": {},
   "source": [
    "| Data Science Tools |\n",
    "|----|\n",
    "| RStudio |\n",
    "| Visual Studio Code |\n",
    "| Git |"
   ]
  },
  {
   "cell_type": "markdown",
   "id": "bc7dd199-0ab6-4e31-a0e2-d3e360c58e21",
   "metadata": {},
   "source": [
    "### Below are a few examples of evaluating arithmetic expressions in Python"
   ]
  },
  {
   "cell_type": "code",
   "execution_count": 21,
   "id": "585c5131-69a9-4276-88ae-dfd1108662a1",
   "metadata": {},
   "outputs": [
    {
     "data": {
      "text/plain": [
       "17"
      ]
     },
     "execution_count": 21,
     "metadata": {},
     "output_type": "execute_result"
    }
   ],
   "source": [
    "# This a simple arithmetic expression to mutiply then add integers\n",
    "(3*4)+5"
   ]
  },
  {
   "cell_type": "code",
   "execution_count": 23,
   "id": "ecd138a7-cb17-4a47-829a-d0eb56315b6e",
   "metadata": {},
   "outputs": [
    {
     "data": {
      "text/plain": [
       "3.3333333333333335"
      ]
     },
     "execution_count": 23,
     "metadata": {},
     "output_type": "execute_result"
    }
   ],
   "source": [
    "# this will convert 200 minutes to hours by diving by 60\n",
    "200 / 60"
   ]
  },
  {
   "cell_type": "markdown",
   "id": "f6ea74ab-12b5-459e-977b-7670bf0e7031",
   "metadata": {},
   "source": [
    "## Author\n",
    "Swarup Biswas"
   ]
  }
 ],
 "metadata": {
  "kernelspec": {
   "display_name": "Python 3 (ipykernel)",
   "language": "python",
   "name": "python3"
  },
  "language_info": {
   "codemirror_mode": {
    "name": "ipython",
    "version": 3
   },
   "file_extension": ".py",
   "mimetype": "text/x-python",
   "name": "python",
   "nbconvert_exporter": "python",
   "pygments_lexer": "ipython3",
   "version": "3.11.7"
  }
 },
 "nbformat": 4,
 "nbformat_minor": 5
}
